{
 "cells": [
  {
   "cell_type": "code",
   "execution_count": null,
   "metadata": {},
   "outputs": [],
   "source": [
    "import seaborn as sns\n",
    "import matplotlib.pyplot as plt\n",
    "import pandas as pd\n",
    "import csv\n",
    "import re\n",
    "import numpy as np\n",
    "from sklearn.cluster import KMeans\n"
   ]
  },
  {
   "cell_type": "code",
   "execution_count": null,
   "metadata": {},
   "outputs": [],
   "source": [
    "\n",
    "csv_file = \"group_embedA.csv\"\n",
    "csv_data = pd.read_csv(csv_file, low_memory = False)\n",
    "df_A = pd.DataFrame(csv_data)\n",
    "\n",
    "df = df_A.drop(columns=['Unnamed: 0'])\n"
   ]
  },
  {
   "cell_type": "code",
   "execution_count": null,
   "metadata": {},
   "outputs": [],
   "source": [
    "k =5\n",
    "kmeans = KMeans(n_clusters=k, random_state=42)\n",
    "dff_pred = kmeans.fit_predict(df)\n"
   ]
  },
  {
   "cell_type": "code",
   "execution_count": null,
   "metadata": {},
   "outputs": [],
   "source": [
    "unique, counts = np.unique(dff_pred, return_counts=True)\n",
    "dict(zip(unique, counts))"
   ]
  },
  {
   "cell_type": "code",
   "execution_count": null,
   "metadata": {},
   "outputs": [],
   "source": [
    "from sklearn.manifold import TSNE\n",
    "\n",
    "tsne = TSNE(verbose=1, perplexity=21, random_state=42, early_exaggeration=3)\n",
    "\n",
    "dff_tsne = tsne.fit_transform(df)"
   ]
  },
  {
   "cell_type": "code",
   "execution_count": null,
   "metadata": {},
   "outputs": [],
   "source": [
    "import matplotlib.ticker as ticker\n",
    "import matplotlib.pyplot as plt\n",
    "import matplotlib as mpl\n",
    "import matplotlib\n",
    "plt.rcParams['font.sans-serif'] = ['Times New Roman']\n",
    "font = 'arial'\n",
    "plt.rcParams['axes.unicode_minus'] = False\n",
    "matplotlib.rcParams['pdf.fonttype'] = 42\n",
    "matplotlib.rcParams['ps.fonttype'] = 42\n",
    "plt.rcParams['savefig.dpi'] = 300\n",
    "plt.rcParams['figure.dpi'] = 300\n",
    "figure, ax = plt.subplots()\n",
    "\n",
    "font3 = {'family': font,\n",
    "         'weight': 'normal',\n",
    "         'size': 36,\n",
    "         }\n",
    "font1 = {'family': font,\n",
    "    'weight': 'normal',\n",
    "    'size': 24,\n",
    "    }   \n",
    "sns.set(rc={'figure.figsize':(15,15)})\n",
    "\n",
    "palette = sns.hls_palette(5, l=.4, s=.9)\n",
    "sns.set_style(\"white\", {\"axes.edgecolor\": \".0\", \"axes.facecolor\":\"none\"})\n",
    "\n",
    "sns.despine(top=True, right=True, left=True, bottom=True)\n",
    "\n",
    "# plot\n",
    "sns.scatterplot(dff_tsne[:,0], dff_tsne[:,1], hue=dff_pred, palette=palette, s=280)\n",
    "plt.legend(prop=font3, loc='upper left', markerscale=3, ncol=1, fancybox=True, edgecolor='black', framealpha=0.8)\n",
    "plt.xticks([])\n",
    "plt.yticks([])\n",
    "\n",
    "\n",
    "plt.tight_layout()\n",
    "bwith = 2\n",
    "ax.spines['bottom'].set_linewidth(bwith)\n",
    "ax.spines['left'].set_linewidth(bwith)\n",
    "ax.spines['top'].set_linewidth(bwith)\n",
    "ax.spines['right'].set_linewidth(bwith)\n",
    "\n",
    "\n",
    "plt.savefig( 'amazon_notitile_A.pdf')\n",
    "\n",
    "\n",
    "plt.show()"
   ]
  }
 ],
 "metadata": {
  "interpreter": {
   "hash": "40d3a090f54c6569ab1632332b64b2c03c39dcf918b08424e98f38b5ae0af88f"
  },
  "kernelspec": {
   "display_name": "Python 3.8.5 64-bit ('base': conda)",
   "language": "python",
   "name": "python3"
  },
  "language_info": {
   "codemirror_mode": {
    "name": "ipython",
    "version": 3
   },
   "file_extension": ".py",
   "mimetype": "text/x-python",
   "name": "python",
   "nbconvert_exporter": "python",
   "pygments_lexer": "ipython3",
   "version": "3.8.5"
  },
  "orig_nbformat": 4
 },
 "nbformat": 4,
 "nbformat_minor": 2
}
