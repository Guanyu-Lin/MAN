{
 "cells": [
  {
   "cell_type": "code",
   "execution_count": null,
   "metadata": {},
   "outputs": [],
   "source": [
    "import seaborn as sns\n",
    "import matplotlib.pyplot as plt\n",
    "import pandas as pd\n",
    "import csv\n",
    "import re\n",
    "import numpy as np\n",
    "from sklearn.cluster import KMeans\n"
   ]
  },
  {
   "cell_type": "code",
   "execution_count": null,
   "metadata": {},
   "outputs": [],
   "source": [
    "\n",
    "csv_file = \"group_embedB.csv\"\n",
    "csv_data = pd.read_csv(csv_file, low_memory = False)\n",
    "df = pd.DataFrame(csv_data)\n",
    "users = df['Unnamed: 0']\n",
    "\n",
    "df = df.drop(columns=['Unnamed: 0'])\n",
    "from sklearn import preprocessing\n",
    "t= preprocessing.StandardScaler().fit(df)\n",
    "df=t.transform(df)\n"
   ]
  },
  {
   "cell_type": "code",
   "execution_count": null,
   "metadata": {},
   "outputs": [],
   "source": [
    "n, m = df.shape\n",
    "C = np.dot(df.T, df) / (n-1) \n",
    "C.shape"
   ]
  },
  {
   "cell_type": "code",
   "execution_count": null,
   "metadata": {},
   "outputs": [],
   "source": [
    "eigenValues, eigenVectors = np.linalg.eigh(C)  \n",
    "args = (-eigenValues).argsort()\n",
    "eigenValues = eigenValues[args]\n",
    "eigenVectors = eigenVectors[:, args]\n",
    "\n",
    "eigValSum = sum(eigenValues) #sum all eigenvalue\n",
    "expVar = [eigV/eigValSum*100 for eigV in eigenValues]\n",
    "cumExpVar = np.cumsum(expVar)\n",
    "cumExpVar\n",
    "#9 principal components can perserve 96.44% of variance."
   ]
  },
  {
   "cell_type": "code",
   "execution_count": null,
   "metadata": {},
   "outputs": [],
   "source": [
    "plt.bar(range(len(eigenValues)), expVar, label='Explained Variance')\n",
    "plt.plot(cumExpVar, 'r-o', label='Cumulative Explained Variance')\n",
    "plt.legend()\n",
    "plt.show()"
   ]
  },
  {
   "cell_type": "code",
   "execution_count": null,
   "metadata": {},
   "outputs": [],
   "source": [
    "#keep 9 pcs\n",
    "from sklearn.decomposition import PCA\n",
    "\n",
    "pca = PCA(n_components=15, random_state=42)\n",
    "dff_reduced= pca.fit_transform(df)\n",
    "dff_reduced.shape"
   ]
  },
  {
   "cell_type": "code",
   "execution_count": null,
   "metadata": {},
   "outputs": [],
   "source": [
    "k =10\n",
    "kmeans = KMeans(n_clusters=k, random_state=42)\n",
    "dff_pred = kmeans.fit_predict(dff_reduced)\n",
    "# death_clean['dff_pred'] = dff_pred"
   ]
  },
  {
   "cell_type": "code",
   "execution_count": null,
   "metadata": {},
   "outputs": [],
   "source": [
    "unique, counts = np.unique(dff_pred, return_counts=True)\n",
    "dict(zip(unique, counts))"
   ]
  },
  {
   "cell_type": "code",
   "execution_count": null,
   "metadata": {},
   "outputs": [],
   "source": [
    "from sklearn.manifold import TSNE\n",
    "\n",
    "tsne = TSNE(verbose=1, perplexity=100, random_state=42)\n",
    "\n",
    "dff_tsne = tsne.fit_transform(df)"
   ]
  },
  {
   "cell_type": "code",
   "execution_count": null,
   "metadata": {},
   "outputs": [],
   "source": [
    "import seaborn as sns\n",
    "sns.set_style(\"white\")\n",
    "sns.despine()\n",
    "sns.set_style(\"whitegrid\", {\"axes.edgecolor\": \".0\", \"axes.facecolor\":\"none\"})\n",
    "\n",
    "# sns settings\n",
    "# sns.set(rc={'figure.figsize':(15,15)})\n",
    "\n",
    "# colors\n",
    "# palette = sns.color_palette(\"bright\", 1)\n",
    "\n",
    "\n",
    "sns.scatterplot(dff_tsne[:,0], dff_tsne[:,1])\n",
    "\n",
    "plt.title('t-SNE with no Labels')\n",
    "\n",
    "plt.show()"
   ]
  },
  {
   "cell_type": "code",
   "execution_count": null,
   "metadata": {},
   "outputs": [],
   "source": [
    "import matplotlib.ticker as ticker\n",
    "import matplotlib.pyplot as plt\n",
    "import matplotlib as mpl\n",
    "import matplotlib\n",
    "plt.rcParams['font.sans-serif'] = ['Times New Roman']\n",
    "font = 'arial'\n",
    "plt.rcParams['axes.unicode_minus'] = False\n",
    "matplotlib.rcParams['pdf.fonttype'] = 42\n",
    "matplotlib.rcParams['ps.fonttype'] = 42\n",
    "plt.rcParams['savefig.dpi'] = 300\n",
    "plt.rcParams['figure.dpi'] = 300\n",
    "figure, ax = plt.subplots()\n",
    "\n",
    "font3 = {'family': font,\n",
    "         'weight': 'normal',\n",
    "         'size': 36,\n",
    "         }\n",
    "font1 = {'family': font,\n",
    "    'weight': 'normal',\n",
    "    'size': 24,\n",
    "    }   \n",
    "sns.set(rc={'figure.figsize':(15,15)})\n",
    "# print(df.index)\n",
    "# colors\n",
    "# print([idx for idx in df.index])\n",
    "palette = sns.hls_palette(10, l=.4, s=.9)\n",
    "# sns.set_style(\"white\")\n",
    "sns.set_style(\"white\", {\"axes.edgecolor\": \".0\", \"axes.facecolor\":\"none\"})\n",
    "\n",
    "sns.despine(top=True, right=True, left=True, bottom=True)\n",
    "\n",
    "# plot\n",
    "sns.scatterplot(dff_tsne[:,0], dff_tsne[:,1], hue=dff_pred, palette=palette, s=280)\n",
    "plt.legend(prop=font3, loc='upper left', markerscale=3, ncol=1, fancybox=True, edgecolor='black', framealpha=0.8)\n",
    "plt.xticks([])\n",
    "plt.yticks([])\n",
    "plt.grid(color = 'black',linestyle='--',linewidth = 1)\n",
    "# plt.title('Micro Video', font1)\n",
    "\n",
    "plt.tight_layout()\n",
    "bwith = 2\n",
    "ax.spines['bottom'].set_linewidth(bwith)\n",
    "ax.spines['left'].set_linewidth(bwith)\n",
    "ax.spines['top'].set_linewidth(bwith)\n",
    "ax.spines['right'].set_linewidth(bwith)\n",
    "\n",
    "# handles,labels = sns.get_legend_handles_labels()\n",
    "\n",
    "# handles = [handles[2], handles[0], handles[1]]\n",
    "# labels = [labels[2], labels[0], labels[1]]\n",
    "\n",
    "# sns.legend(handles,labels,loc='lower right', labelspacing=0.25, handlelength=0.4, handletextpad=0.7)\n",
    "plt.savefig( 'micro_video_notitileB.pdf')\n",
    "\n",
    "\n",
    "plt.show()"
   ]
  }
 ],
 "metadata": {
  "interpreter": {
   "hash": "40d3a090f54c6569ab1632332b64b2c03c39dcf918b08424e98f38b5ae0af88f"
  },
  "kernelspec": {
   "display_name": "Python 3.8.5 64-bit ('base': conda)",
   "language": "python",
   "name": "python3"
  },
  "language_info": {
   "codemirror_mode": {
    "name": "ipython",
    "version": 3
   },
   "file_extension": ".py",
   "mimetype": "text/x-python",
   "name": "python",
   "nbconvert_exporter": "python",
   "pygments_lexer": "ipython3",
   "version": "3.8.5"
  },
  "orig_nbformat": 4
 },
 "nbformat": 4,
 "nbformat_minor": 2
}
